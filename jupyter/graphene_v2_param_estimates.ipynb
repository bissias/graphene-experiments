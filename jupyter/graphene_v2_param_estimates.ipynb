{
 "cells": [
  {
   "cell_type": "code",
   "execution_count": 12,
   "metadata": {},
   "outputs": [
    {
     "name": "stdout",
     "output_type": "stream",
     "text": [
      "x_star: 4\n",
      "y_star: 5\n"
     ]
    }
   ],
   "source": [
    "import numpy as np\n",
    "\n",
    "def delta_i(z, i, m, f_S):\n",
    "    return (z-i) / ((m - i)*f_S) - 1\n",
    "\n",
    "def prob_x_lt_k(z, k, m, f_S):\n",
    "    p = 0\n",
    "    for i in range(k+1): # [0..k]\n",
    "        di = delta_i(z, i, m, f_S)\n",
    "        di_plus_1 = di + 1\n",
    "        p += (np.exp(di) / di_plus_1**di_plus_1)**((m-i)*f_S)\n",
    "    \n",
    "    return p\n",
    "\n",
    "def get_x_star(z, m, n, f_S, beta):\n",
    "    if z == 0:\n",
    "        return 0\n",
    "    \n",
    "    x_star = int(min(z, n))\n",
    "    p = prob_x_lt_k(z, x_star, m, f_S)\n",
    "    \n",
    "    while p > 1 - beta and x_star > 0:\n",
    "        x_star -= 1\n",
    "        p = prob_x_lt_k(z, x_star, m, f_S)\n",
    "        \n",
    "    return int(min(z, x_star))\n",
    "\n",
    "def delta(x_star, m, f_S, beta):\n",
    "    log_b = np.log(1 - beta) # natural log\n",
    "    s = - log_b / ((m - x_star)*f_S)\n",
    "    \n",
    "    return 0.5 * (s + np.sqrt(s**2 + 8*s))\n",
    "\n",
    "def get_y_star(x_star, z, m, f_S, beta):\n",
    "    if z == 0:\n",
    "        return 0\n",
    "    \n",
    "    return int(min(z, (1+delta(x_star, m, f_S, beta)) * (m-x_star) * f_S))\n",
    "    \n",
    "z = 10; n = 10; m = 20; f_S = 0.1; beta = 0.9\n",
    "x_star = get_x_star(z, m, n, f_S, beta)\n",
    "print('x_star:', x_star)\n",
    "print('y_star:', get_y_star(x_star, z, m, f_S, beta))"
   ]
  }
 ],
 "metadata": {
  "kernelspec": {
   "display_name": "Python 3",
   "language": "python",
   "name": "python3"
  },
  "language_info": {
   "codemirror_mode": {
    "name": "ipython",
    "version": 3
   },
   "file_extension": ".py",
   "mimetype": "text/x-python",
   "name": "python",
   "nbconvert_exporter": "python",
   "pygments_lexer": "ipython3",
   "version": "3.6.8"
  }
 },
 "nbformat": 4,
 "nbformat_minor": 2
}
