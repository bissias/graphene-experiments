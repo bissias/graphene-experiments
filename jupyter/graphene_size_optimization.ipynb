{
 "cells": [
  {
   "cell_type": "markdown",
   "metadata": {},
   "source": [
    "# Graphene Size Optimization\n",
    "\n",
    "Graphene blocks are comprised of two major data structures, an Invertible Bloom Lookup Table (IBLT) labeled $I$ and a Bloom filter (BF) labeled $B$.\n",
    "In this document we analyze two size tuning procedures for Graphene blocks. Although the [original Graphene paper](https://people.cs.umass.edu/~gbiss/graphene.pdf) offered an optimization formula, the current version (as of commit 786c1d1) uses brute-force search to find optimal sizes for $I$ and $B$. This decision was made because the optimization formula is unable to account for discontinuous functions such as floors and ceilings. As a result, the formula is inaccurate, particularly for Graphene blocks containing relatively few transactions. Nevertheless, for large blocks, the formula should work quite well, and is much more efficient than brute-force search. Therefore, one of the goals of this document is to determine how large a block must be in order for the optimization formula to work well.\n",
    "\n",
    "The second goal of this document is to determine a suitable increase in the size of $I$ that can compensate for the natural variance in the false positive rate (FPR) of $B$. It is relatively easy to determine the expected number of false positives (FPs) for a BF of given size and holding a given number of items. However, some fraction of the time, more FPs will be generated than expected. In such cases we want $I$ to be large enough to decode.\n",
    "\n",
    "## Optimization formula\n",
    "\n",
    "There are two sources of error that must be accounted for when sizing $I$ and $B$: \n",
    "\n",
    "1. Transactions $M$ that are in the block but missing from the receiver mempool. \n",
    "2. Transactions $S$ that are not the block but are in the receiver mempool and which pass through the $B$ as FPs. \n",
    "\n",
    "$I$ must be sized large enough so that all transactions in $M \\cup S$ can be recovered. Define $E$ to be the set of *excess transactions* that are in the receiver mempool, but not in the block. If $f_B$ is the FPR for $B$, then in expectation, $f_B |E| = |S|$. It is not possible for the sender to control $M$, but the size of $S$ is completely in his control. By reducing the FPR of $B$, the sender can make $S$ arbitrarily small, reducing the required size of $I$. However reducing the FPR of $B$ also requires an increase in the size of $B$. \n",
    "\n",
    "Thus, optimizing Graphene block size can be accomplished by determining the ideal choice for $s = |S|$, which leads to a minimal combined size for $I$ and $B$. Working with the actual sizes for $I$ and $B$, that arise from their c++ implementations, along with a simplified definition of FPR $f_B$ that ignores floors and ceilings, we can develop an expression for total size $T$. We begin with a table of variables.\n",
    "\n",
    "| variable | description |\n",
    "|:--------:|-------------|\n",
    "| $b$ | BF cell size (bytes)|\n",
    "| $n$ | items in block |\n",
    "| $i$ | IBLT cell size (bytes) |\n",
    "| $v$ | IBLT overhead |\n",
    "| $M$ | Missing transactions as defined above |\n",
    "| $S$ | False positives as defined above |\n",
    "| $E$ | Excess transactions in mempool |\n",
    "| $s$ | size of $S$, $|S|$\n",
    "| $f_B(s)$ | implied FPR of $B$ given $s$ | \n",
    "| $I(s)$ | Size of $I$ given $s$ |\n",
    "| $B(s)$ | Size $B$ given $s$ |\n",
    "| $T(s)$ | Aggregate size of $I$ and $B$ given s| \n",
    "\n",
    "Based on the definitions above, we have.\n",
    "\n",
    "$$f_B(s) = \\frac{s}{|E|}$$\n",
    "$$B(s) = \\frac{b n}{8} \\left( \\frac{-1}{\\ln^2(2)} \\right) \\ln(f_B(s))$$\n",
    "$$I(s) = i v s$$\n",
    "$$T(s) =  I(s) + B(s)$$\n",
    "\n",
    "Taking the derivative of $T(s)$ with respect to $s$ and setting the result equal to zero, we can solve for the optimal value of $s$:\n",
    "\n",
    "$$s^* = \\frac{bn}{8iv \\ln^2(2)}.$$"
   ]
  },
  {
   "cell_type": "code",
   "execution_count": null,
   "metadata": {},
   "outputs": [],
   "source": []
  }
 ],
 "metadata": {
  "kernelspec": {
   "display_name": "Python 3",
   "language": "python",
   "name": "python3"
  },
  "language_info": {
   "codemirror_mode": {
    "name": "ipython",
    "version": 3
   },
   "file_extension": ".py",
   "mimetype": "text/x-python",
   "name": "python",
   "nbconvert_exporter": "python",
   "pygments_lexer": "ipython3",
   "version": "3.5.2"
  }
 },
 "nbformat": 4,
 "nbformat_minor": 2
}
